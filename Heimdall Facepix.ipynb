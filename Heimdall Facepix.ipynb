{
 "cells": [
  {
   "cell_type": "markdown",
   "id": "a5347415",
   "metadata": {},
   "source": [
    "# Data Loading and Preprocessing"
   ]
  },
  {
   "cell_type": "code",
   "execution_count": 1,
   "id": "051c794f",
   "metadata": {},
   "outputs": [
    {
     "name": "stdout",
     "output_type": "stream",
     "text": [
      "Input shape: 3060\n",
      "Number of Classes: 30\n"
     ]
    }
   ],
   "source": [
    "# Import Libraries\n",
    "import os\n",
    "import pandas as pd\n",
    "import numpy as np\n",
    "import cv2\n",
    "from sklearn.model_selection import train_test_split\n",
    "from sklearn.preprocessing import LabelEncoder\n",
    "\n",
    "# Define paths\n",
    "DATASET_PATH = r\"C:\\Users\\Administrator\\Documents\\Sunny's ALU\\Heimdall\\FacePix\"\n",
    "CSV_PATH = r\"C:\\Users\\Administrator\\Documents\\Sunny's ALU\\Heimdall\\facepix_metadata_named.csv\"\n",
    "\n",
    "# Load metadata\n",
    "df = pd.read_csv(CSV_PATH)\n",
    "\n",
    "# Keep only valid file paths\n",
    "df = df[df['file_path'].apply(os.path.exists)].reset_index(drop=True)\n",
    "\n",
    "# Encode names into numeric labels\n",
    "le = LabelEncoder()\n",
    "df['label'] = le.fit_transform(df['person_name'])\n",
    "\n",
    "# Train-val-test split\n",
    "train_df, temp_df = train_test_split(df, test_size=0.3, stratify=df['label'], random_state=42)\n",
    "val_df, test_df = train_test_split(temp_df, test_size=0.5, stratify=temp_df['label'], random_state=42)\n",
    "\n",
    "# Load grayscale images\n",
    "def load_images(df_subset):\n",
    "    X, y = [], []\n",
    "    for _, row in df_subset.iterrows():\n",
    "        img = cv2.imread(row['file_path'], cv2.IMREAD_GRAYSCALE)\n",
    "        img = img / 255.0  # normalize\n",
    "        X.append(img.flatten())\n",
    "        y.append(row['label'])\n",
    "    return np.array(X), np.array(y)\n",
    "\n",
    "X_train, y_train = load_images(train_df)\n",
    "X_val, y_val = load_images(val_df)\n",
    "X_test, y_test = load_images(test_df)\n",
    "\n",
    "print(\"Input shape:\", X_train.shape[1])  # 3060\n",
    "print(\"Number of Classes:\", len(np.unique(y_train)))"
   ]
  },
  {
   "cell_type": "markdown",
   "id": "3b646cfd",
   "metadata": {},
   "source": [
    "# Baseline Neural Network Model (No Optimization)"
   ]
  },
  {
   "cell_type": "code",
   "execution_count": 2,
   "id": "eca0e4ce",
   "metadata": {},
   "outputs": [
    {
     "name": "stdout",
     "output_type": "stream",
     "text": [
      "\u001b[1m26/26\u001b[0m \u001b[32m━━━━━━━━━━━━━━━━━━━━\u001b[0m\u001b[37m\u001b[0m \u001b[1m0s\u001b[0m 7ms/step\n",
      "Baseline Model Results\n",
      "Accuracy: 0.0785276073619632 | Precision: 0.030991325428711993 | Recall: 0.07901234567901234 | F1: 0.030284906581624083 | Loss: 2.990606810185863\n"
     ]
    },
    {
     "name": "stderr",
     "output_type": "stream",
     "text": [
      "C:\\Users\\Administrator\\AppData\\Roaming\\Python\\Python311\\site-packages\\sklearn\\metrics\\_classification.py:1706: UndefinedMetricWarning: Precision is ill-defined and being set to 0.0 in labels with no predicted samples. Use `zero_division` parameter to control this behavior.\n",
      "  _warn_prf(average, modifier, f\"{metric.capitalize()} is\", result.shape[0])\n"
     ]
    }
   ],
   "source": [
    "import tensorflow as tf\n",
    "from tensorflow.keras.models import Sequential\n",
    "from tensorflow.keras.layers import Dense\n",
    "from sklearn.metrics import accuracy_score, precision_score, recall_score, f1_score, log_loss\n",
    "\n",
    "# Create baseline model without optimization\n",
    "model1 = Sequential([\n",
    "    tf.keras.Input(shape=(X_train.shape[1],)),\n",
    "    Dense(128, activation='relu'),\n",
    "    Dense(30, activation='softmax')\n",
    "])\n",
    "\n",
    "model1.compile(optimizer=\"adam\", loss=\"sparse_categorical_crossentropy\", metrics=[\"accuracy\"])\n",
    "model1.fit(X_train, y_train, epochs=10, validation_data=(X_val, y_val), verbose=0)\n",
    "\n",
    "y_pred = model1.predict(X_test)\n",
    "y_pred_classes = np.argmax(y_pred, axis=1)\n",
    "\n",
    "acc = accuracy_score(y_test, y_pred_classes)\n",
    "prec = precision_score(y_test, y_pred_classes, average='macro')\n",
    "rec = recall_score(y_test, y_pred_classes, average='macro')\n",
    "f1 = f1_score(y_test, y_pred_classes, average='macro')\n",
    "loss = log_loss(y_test, y_pred)\n",
    "\n",
    "# Print the Reults\n",
    "print(\"Baseline Model Results\")\n",
    "print(\"Accuracy:\", acc, \"| Precision:\", prec, \"| Recall:\", rec, \"| F1:\", f1, \"| Loss:\", loss)"
   ]
  },
  {
   "cell_type": "markdown",
   "id": "625837cc",
   "metadata": {},
   "source": [
    "# Neural Network with Optimization Techniques"
   ]
  },
  {
   "cell_type": "code",
   "execution_count": 3,
   "id": "a9f20c62",
   "metadata": {},
   "outputs": [
    {
     "name": "stdout",
     "output_type": "stream",
     "text": [
      "\u001b[1m26/26\u001b[0m \u001b[32m━━━━━━━━━━━━━━━━━━━━\u001b[0m\u001b[37m\u001b[0m \u001b[1m0s\u001b[0m 6ms/step\n",
      "Optimized Model (RMSprop + Dropout + EarlyStopping)\n",
      "Accuracy: 0.19386503067484662\n"
     ]
    }
   ],
   "source": [
    "from tensorflow.keras.layers import Dropout\n",
    "from tensorflow.keras.callbacks import EarlyStopping\n",
    "\n",
    "# Optimized Model (Dropout, EarlyStopping, RMSprop)\n",
    "model2 = Sequential([\n",
    "    tf.keras.Input(shape=(X_train.shape[1],)),\n",
    "    Dense(128, activation='relu'),\n",
    "    Dropout(0.3),\n",
    "    Dense(64, activation='relu'),\n",
    "    Dense(30, activation='softmax')\n",
    "])\n",
    "\n",
    "early_stop2 = EarlyStopping(monitor='val_loss', patience=3, restore_best_weights=True)\n",
    "\n",
    "model2.compile(optimizer=tf.keras.optimizers.RMSprop(learning_rate=0.001),\n",
    "               loss=\"sparse_categorical_crossentropy\", metrics=[\"accuracy\"])\n",
    "model2.fit(X_train, y_train, epochs=30, validation_data=(X_val, y_val), callbacks=[early_stop2], verbose=0)\n",
    "\n",
    "y_pred2 = model2.predict(X_test)\n",
    "y_pred_classes2 = np.argmax(y_pred2, axis=1)\n",
    "\n",
    "# Print the Results\n",
    "print(\"Optimized Model (RMSprop + Dropout + EarlyStopping)\")\n",
    "print(\"Accuracy:\", accuracy_score(y_test, y_pred_classes2))"
   ]
  },
  {
   "cell_type": "markdown",
   "id": "a8603069",
   "metadata": {},
   "source": [
    "# Deeper Neural Network with Adam + Dropout + EarlyStopping"
   ]
  },
  {
   "cell_type": "code",
   "execution_count": 4,
   "id": "2be8dc2a",
   "metadata": {},
   "outputs": [
    {
     "name": "stdout",
     "output_type": "stream",
     "text": [
      "\u001b[1m26/26\u001b[0m \u001b[32m━━━━━━━━━━━━━━━━━━━━\u001b[0m\u001b[37m\u001b[0m \u001b[1m0s\u001b[0m 6ms/step\n",
      "Deep Optimized Model (Adam)\n",
      "F1 Score: 0.0023106546854942235\n"
     ]
    }
   ],
   "source": [
    "# DNN with Adam+Dropout+EarlyStopping\n",
    "model3 = Sequential([\n",
    "    tf.keras.Input(shape=(X_train.shape[1],)),\n",
    "    Dense(256, activation='relu'),\n",
    "    Dropout(0.4),\n",
    "    Dense(128, activation='relu'),\n",
    "    Dropout(0.3),\n",
    "    Dense(64, activation='relu'),\n",
    "    Dense(30, activation='softmax')\n",
    "])\n",
    "\n",
    "early_stop3 = EarlyStopping(monitor='val_loss', patience=4, restore_best_weights=True)\n",
    "\n",
    "model3.compile(optimizer=tf.keras.optimizers.Adam(learning_rate=0.0005),\n",
    "               loss=\"sparse_categorical_crossentropy\", metrics=[\"accuracy\"])\n",
    "model3.fit(X_train, y_train, epochs=40, validation_data=(X_val, y_val), callbacks=[early_stop3], verbose=0)\n",
    "\n",
    "y_pred3 = model3.predict(X_test)\n",
    "y_pred_classes3 = np.argmax(y_pred3, axis=1)\n",
    "\n",
    "# Print the Result\n",
    "print(\"Deep Optimized Model (Adam)\")\n",
    "print(\"F1 Score:\", f1_score(y_test, y_pred_classes3, average='macro'))"
   ]
  },
  {
   "cell_type": "markdown",
   "id": "894f4bdf",
   "metadata": {},
   "source": [
    "# Shallow Optimized Model with SGD and Dropout"
   ]
  },
  {
   "cell_type": "code",
   "execution_count": 5,
   "id": "232eb63d",
   "metadata": {},
   "outputs": [
    {
     "name": "stdout",
     "output_type": "stream",
     "text": [
      "\u001b[1m26/26\u001b[0m \u001b[32m━━━━━━━━━━━━━━━━━━━━\u001b[0m\u001b[37m\u001b[0m \u001b[1m0s\u001b[0m 7ms/step\n",
      "Optimized Model with SGD\n",
      "Accuracy: 0.03680981595092025\n"
     ]
    }
   ],
   "source": [
    "model4 = Sequential([\n",
    "    tf.keras.Input(shape=(X_train.shape[1],)),\n",
    "    Dense(64, activation='relu'),\n",
    "    Dropout(0.2),\n",
    "    Dense(30, activation='softmax')\n",
    "])\n",
    "\n",
    "early_stop4 = EarlyStopping(monitor='val_loss', patience=5, restore_best_weights=True)\n",
    "\n",
    "model4.compile(optimizer=tf.keras.optimizers.SGD(learning_rate=0.01, momentum=0.9),\n",
    "               loss=\"sparse_categorical_crossentropy\", metrics=[\"accuracy\"])\n",
    "model4.fit(X_train, y_train, epochs=50, validation_data=(X_val, y_val), callbacks=[early_stop4], verbose=0)\n",
    "\n",
    "y_pred4 = model4.predict(X_test)\n",
    "y_pred_classes4 = np.argmax(y_pred4, axis=1)\n",
    "\n",
    "# Print the Result\n",
    "print(\"Optimized Model with SGD\")\n",
    "print(\"Accuracy:\", accuracy_score(y_test, y_pred_classes4))"
   ]
  },
  {
   "cell_type": "markdown",
   "id": "c9b44238",
   "metadata": {},
   "source": [
    "# Classical ML Model – Logistic Regression (Optimized)"
   ]
  },
  {
   "cell_type": "code",
   "execution_count": 6,
   "id": "4d807415",
   "metadata": {},
   "outputs": [
    {
     "name": "stderr",
     "output_type": "stream",
     "text": [
      "C:\\Users\\Administrator\\AppData\\Roaming\\Python\\Python311\\site-packages\\sklearn\\linear_model\\_logistic.py:1264: FutureWarning: 'multi_class' was deprecated in version 1.5 and will be removed in 1.7. From then on, it will always use 'multinomial'. Leave it to its default value to avoid this warning.\n",
      "  warnings.warn(\n"
     ]
    },
    {
     "name": "stdout",
     "output_type": "stream",
     "text": [
      "Logistic Regression Accuracy: 1.0\n",
      "F1 Score: 1.0\n",
      "Loss: 0.05018911572133783\n"
     ]
    },
    {
     "data": {
      "text/plain": [
       "['saved_models/logistic_regression_model.pkl']"
      ]
     },
     "execution_count": 6,
     "metadata": {},
     "output_type": "execute_result"
    }
   ],
   "source": [
    "from sklearn.linear_model import LogisticRegression\n",
    "import joblib\n",
    "\n",
    "clf = LogisticRegression(max_iter=1000, solver='lbfgs', C=1.0, multi_class='multinomial')\n",
    "clf.fit(X_train, y_train)\n",
    "\n",
    "y_pred_lr = clf.predict(X_test)\n",
    "y_proba_lr = clf.predict_proba(X_test)\n",
    "\n",
    "print(\"Logistic Regression Accuracy:\", accuracy_score(y_test, y_pred_lr))\n",
    "print(\"F1 Score:\", f1_score(y_test, y_pred_lr, average='macro'))\n",
    "print(\"Loss:\", log_loss(y_test, y_proba_lr))\n",
    "\n",
    "joblib.dump(clf, \"saved_models/logistic_regression_model.pkl\")"
   ]
  },
  {
   "cell_type": "markdown",
   "id": "ace5a757",
   "metadata": {},
   "source": [
    "# Hyperparameter Tuning for Logistic Regression"
   ]
  },
  {
   "cell_type": "code",
   "execution_count": 7,
   "id": "0c87053b",
   "metadata": {
    "scrolled": true
   },
   "outputs": [
    {
     "name": "stdout",
     "output_type": "stream",
     "text": [
      "Fitting 3 folds for each of 8 candidates, totalling 24 fits\n"
     ]
    },
    {
     "name": "stderr",
     "output_type": "stream",
     "text": [
      "C:\\Users\\Administrator\\AppData\\Roaming\\Python\\Python311\\site-packages\\sklearn\\linear_model\\_logistic.py:1264: FutureWarning: 'multi_class' was deprecated in version 1.5 and will be removed in 1.7. From then on, it will always use 'multinomial'. Leave it to its default value to avoid this warning.\n",
      "  warnings.warn(\n",
      "C:\\Users\\Administrator\\AppData\\Roaming\\Python\\Python311\\site-packages\\sklearn\\utils\\_response.py:203: UserWarning: The number of unique classes is greater than 50% of the number of samples.\n",
      "  target_type = type_of_target(classes)\n",
      "C:\\Users\\Administrator\\AppData\\Roaming\\Python\\Python311\\site-packages\\sklearn\\linear_model\\_logistic.py:1264: FutureWarning: 'multi_class' was deprecated in version 1.5 and will be removed in 1.7. From then on, it will always use 'multinomial'. Leave it to its default value to avoid this warning.\n",
      "  warnings.warn(\n",
      "C:\\Users\\Administrator\\AppData\\Roaming\\Python\\Python311\\site-packages\\sklearn\\utils\\_response.py:203: UserWarning: The number of unique classes is greater than 50% of the number of samples.\n",
      "  target_type = type_of_target(classes)\n",
      "C:\\Users\\Administrator\\AppData\\Roaming\\Python\\Python311\\site-packages\\sklearn\\linear_model\\_logistic.py:1264: FutureWarning: 'multi_class' was deprecated in version 1.5 and will be removed in 1.7. From then on, it will always use 'multinomial'. Leave it to its default value to avoid this warning.\n",
      "  warnings.warn(\n",
      "C:\\Users\\Administrator\\AppData\\Roaming\\Python\\Python311\\site-packages\\sklearn\\utils\\_response.py:203: UserWarning: The number of unique classes is greater than 50% of the number of samples.\n",
      "  target_type = type_of_target(classes)\n",
      "C:\\Users\\Administrator\\AppData\\Roaming\\Python\\Python311\\site-packages\\sklearn\\linear_model\\_logistic.py:1264: FutureWarning: 'multi_class' was deprecated in version 1.5 and will be removed in 1.7. From then on, it will always use 'multinomial'. Leave it to its default value to avoid this warning.\n",
      "  warnings.warn(\n",
      "C:\\Users\\Administrator\\AppData\\Roaming\\Python\\Python311\\site-packages\\sklearn\\utils\\_response.py:203: UserWarning: The number of unique classes is greater than 50% of the number of samples.\n",
      "  target_type = type_of_target(classes)\n",
      "C:\\Users\\Administrator\\AppData\\Roaming\\Python\\Python311\\site-packages\\sklearn\\linear_model\\_logistic.py:1264: FutureWarning: 'multi_class' was deprecated in version 1.5 and will be removed in 1.7. From then on, it will always use 'multinomial'. Leave it to its default value to avoid this warning.\n",
      "  warnings.warn(\n",
      "C:\\Users\\Administrator\\AppData\\Roaming\\Python\\Python311\\site-packages\\sklearn\\utils\\_response.py:203: UserWarning: The number of unique classes is greater than 50% of the number of samples.\n",
      "  target_type = type_of_target(classes)\n",
      "C:\\Users\\Administrator\\AppData\\Roaming\\Python\\Python311\\site-packages\\sklearn\\linear_model\\_logistic.py:1264: FutureWarning: 'multi_class' was deprecated in version 1.5 and will be removed in 1.7. From then on, it will always use 'multinomial'. Leave it to its default value to avoid this warning.\n",
      "  warnings.warn(\n",
      "C:\\Users\\Administrator\\AppData\\Roaming\\Python\\Python311\\site-packages\\sklearn\\utils\\_response.py:203: UserWarning: The number of unique classes is greater than 50% of the number of samples.\n",
      "  target_type = type_of_target(classes)\n",
      "C:\\Users\\Administrator\\AppData\\Roaming\\Python\\Python311\\site-packages\\sklearn\\linear_model\\_logistic.py:1264: FutureWarning: 'multi_class' was deprecated in version 1.5 and will be removed in 1.7. From then on, it will always use 'multinomial'. Leave it to its default value to avoid this warning.\n",
      "  warnings.warn(\n",
      "C:\\Users\\Administrator\\AppData\\Roaming\\Python\\Python311\\site-packages\\sklearn\\utils\\_response.py:203: UserWarning: The number of unique classes is greater than 50% of the number of samples.\n",
      "  target_type = type_of_target(classes)\n",
      "C:\\Users\\Administrator\\AppData\\Roaming\\Python\\Python311\\site-packages\\sklearn\\linear_model\\_logistic.py:1264: FutureWarning: 'multi_class' was deprecated in version 1.5 and will be removed in 1.7. From then on, it will always use 'multinomial'. Leave it to its default value to avoid this warning.\n",
      "  warnings.warn(\n",
      "C:\\Users\\Administrator\\AppData\\Roaming\\Python\\Python311\\site-packages\\sklearn\\utils\\_response.py:203: UserWarning: The number of unique classes is greater than 50% of the number of samples.\n",
      "  target_type = type_of_target(classes)\n",
      "C:\\Users\\Administrator\\AppData\\Roaming\\Python\\Python311\\site-packages\\sklearn\\linear_model\\_logistic.py:1264: FutureWarning: 'multi_class' was deprecated in version 1.5 and will be removed in 1.7. From then on, it will always use 'multinomial'. Leave it to its default value to avoid this warning.\n",
      "  warnings.warn(\n",
      "C:\\Users\\Administrator\\AppData\\Roaming\\Python\\Python311\\site-packages\\sklearn\\utils\\_response.py:203: UserWarning: The number of unique classes is greater than 50% of the number of samples.\n",
      "  target_type = type_of_target(classes)\n",
      "C:\\Users\\Administrator\\AppData\\Roaming\\Python\\Python311\\site-packages\\sklearn\\linear_model\\_logistic.py:1264: FutureWarning: 'multi_class' was deprecated in version 1.5 and will be removed in 1.7. From then on, it will always use 'multinomial'. Leave it to its default value to avoid this warning.\n",
      "  warnings.warn(\n",
      "C:\\Users\\Administrator\\AppData\\Roaming\\Python\\Python311\\site-packages\\sklearn\\utils\\_response.py:203: UserWarning: The number of unique classes is greater than 50% of the number of samples.\n",
      "  target_type = type_of_target(classes)\n",
      "C:\\Users\\Administrator\\AppData\\Roaming\\Python\\Python311\\site-packages\\sklearn\\linear_model\\_logistic.py:1264: FutureWarning: 'multi_class' was deprecated in version 1.5 and will be removed in 1.7. From then on, it will always use 'multinomial'. Leave it to its default value to avoid this warning.\n",
      "  warnings.warn(\n",
      "C:\\Users\\Administrator\\AppData\\Roaming\\Python\\Python311\\site-packages\\sklearn\\utils\\_response.py:203: UserWarning: The number of unique classes is greater than 50% of the number of samples.\n",
      "  target_type = type_of_target(classes)\n",
      "C:\\Users\\Administrator\\AppData\\Roaming\\Python\\Python311\\site-packages\\sklearn\\linear_model\\_logistic.py:1264: FutureWarning: 'multi_class' was deprecated in version 1.5 and will be removed in 1.7. From then on, it will always use 'multinomial'. Leave it to its default value to avoid this warning.\n",
      "  warnings.warn(\n",
      "C:\\Users\\Administrator\\AppData\\Roaming\\Python\\Python311\\site-packages\\sklearn\\utils\\_response.py:203: UserWarning: The number of unique classes is greater than 50% of the number of samples.\n",
      "  target_type = type_of_target(classes)\n",
      "C:\\Users\\Administrator\\AppData\\Roaming\\Python\\Python311\\site-packages\\sklearn\\linear_model\\_logistic.py:1264: FutureWarning: 'multi_class' was deprecated in version 1.5 and will be removed in 1.7. From then on, it will always use 'multinomial'. Leave it to its default value to avoid this warning.\n",
      "  warnings.warn(\n",
      "C:\\Users\\Administrator\\AppData\\Roaming\\Python\\Python311\\site-packages\\sklearn\\utils\\_response.py:203: UserWarning: The number of unique classes is greater than 50% of the number of samples.\n",
      "  target_type = type_of_target(classes)\n",
      "C:\\Users\\Administrator\\AppData\\Roaming\\Python\\Python311\\site-packages\\sklearn\\linear_model\\_logistic.py:1264: FutureWarning: 'multi_class' was deprecated in version 1.5 and will be removed in 1.7. From then on, it will always use 'multinomial'. Leave it to its default value to avoid this warning.\n",
      "  warnings.warn(\n",
      "C:\\Users\\Administrator\\AppData\\Roaming\\Python\\Python311\\site-packages\\sklearn\\utils\\_response.py:203: UserWarning: The number of unique classes is greater than 50% of the number of samples.\n",
      "  target_type = type_of_target(classes)\n",
      "C:\\Users\\Administrator\\AppData\\Roaming\\Python\\Python311\\site-packages\\sklearn\\linear_model\\_logistic.py:1264: FutureWarning: 'multi_class' was deprecated in version 1.5 and will be removed in 1.7. From then on, it will always use 'multinomial'. Leave it to its default value to avoid this warning.\n",
      "  warnings.warn(\n",
      "C:\\Users\\Administrator\\AppData\\Roaming\\Python\\Python311\\site-packages\\sklearn\\utils\\_response.py:203: UserWarning: The number of unique classes is greater than 50% of the number of samples.\n",
      "  target_type = type_of_target(classes)\n",
      "C:\\Users\\Administrator\\AppData\\Roaming\\Python\\Python311\\site-packages\\sklearn\\linear_model\\_logistic.py:1264: FutureWarning: 'multi_class' was deprecated in version 1.5 and will be removed in 1.7. From then on, it will always use 'multinomial'. Leave it to its default value to avoid this warning.\n",
      "  warnings.warn(\n"
     ]
    },
    {
     "name": "stderr",
     "output_type": "stream",
     "text": [
      "C:\\Users\\Administrator\\AppData\\Roaming\\Python\\Python311\\site-packages\\sklearn\\utils\\_response.py:203: UserWarning: The number of unique classes is greater than 50% of the number of samples.\n",
      "  target_type = type_of_target(classes)\n",
      "C:\\Users\\Administrator\\AppData\\Roaming\\Python\\Python311\\site-packages\\sklearn\\linear_model\\_logistic.py:1264: FutureWarning: 'multi_class' was deprecated in version 1.5 and will be removed in 1.7. From then on, it will always use 'multinomial'. Leave it to its default value to avoid this warning.\n",
      "  warnings.warn(\n",
      "C:\\Users\\Administrator\\AppData\\Roaming\\Python\\Python311\\site-packages\\sklearn\\utils\\_response.py:203: UserWarning: The number of unique classes is greater than 50% of the number of samples.\n",
      "  target_type = type_of_target(classes)\n",
      "C:\\Users\\Administrator\\AppData\\Roaming\\Python\\Python311\\site-packages\\sklearn\\linear_model\\_logistic.py:1264: FutureWarning: 'multi_class' was deprecated in version 1.5 and will be removed in 1.7. From then on, it will always use 'multinomial'. Leave it to its default value to avoid this warning.\n",
      "  warnings.warn(\n",
      "C:\\Users\\Administrator\\AppData\\Roaming\\Python\\Python311\\site-packages\\sklearn\\utils\\_response.py:203: UserWarning: The number of unique classes is greater than 50% of the number of samples.\n",
      "  target_type = type_of_target(classes)\n",
      "C:\\Users\\Administrator\\AppData\\Roaming\\Python\\Python311\\site-packages\\sklearn\\linear_model\\_logistic.py:1264: FutureWarning: 'multi_class' was deprecated in version 1.5 and will be removed in 1.7. From then on, it will always use 'multinomial'. Leave it to its default value to avoid this warning.\n",
      "  warnings.warn(\n",
      "C:\\Users\\Administrator\\AppData\\Roaming\\Python\\Python311\\site-packages\\sklearn\\utils\\_response.py:203: UserWarning: The number of unique classes is greater than 50% of the number of samples.\n",
      "  target_type = type_of_target(classes)\n",
      "C:\\Users\\Administrator\\AppData\\Roaming\\Python\\Python311\\site-packages\\sklearn\\linear_model\\_logistic.py:1264: FutureWarning: 'multi_class' was deprecated in version 1.5 and will be removed in 1.7. From then on, it will always use 'multinomial'. Leave it to its default value to avoid this warning.\n",
      "  warnings.warn(\n",
      "C:\\Users\\Administrator\\AppData\\Roaming\\Python\\Python311\\site-packages\\sklearn\\utils\\_response.py:203: UserWarning: The number of unique classes is greater than 50% of the number of samples.\n",
      "  target_type = type_of_target(classes)\n",
      "C:\\Users\\Administrator\\AppData\\Roaming\\Python\\Python311\\site-packages\\sklearn\\linear_model\\_logistic.py:1264: FutureWarning: 'multi_class' was deprecated in version 1.5 and will be removed in 1.7. From then on, it will always use 'multinomial'. Leave it to its default value to avoid this warning.\n",
      "  warnings.warn(\n",
      "C:\\Users\\Administrator\\AppData\\Roaming\\Python\\Python311\\site-packages\\sklearn\\utils\\_response.py:203: UserWarning: The number of unique classes is greater than 50% of the number of samples.\n",
      "  target_type = type_of_target(classes)\n",
      "C:\\Users\\Administrator\\AppData\\Roaming\\Python\\Python311\\site-packages\\sklearn\\linear_model\\_logistic.py:1264: FutureWarning: 'multi_class' was deprecated in version 1.5 and will be removed in 1.7. From then on, it will always use 'multinomial'. Leave it to its default value to avoid this warning.\n",
      "  warnings.warn(\n",
      "C:\\Users\\Administrator\\AppData\\Roaming\\Python\\Python311\\site-packages\\sklearn\\linear_model\\_sag.py:348: ConvergenceWarning: The max_iter was reached which means the coef_ did not converge\n",
      "  warnings.warn(\n",
      "C:\\Users\\Administrator\\AppData\\Roaming\\Python\\Python311\\site-packages\\sklearn\\utils\\_response.py:203: UserWarning: The number of unique classes is greater than 50% of the number of samples.\n",
      "  target_type = type_of_target(classes)\n",
      "C:\\Users\\Administrator\\AppData\\Roaming\\Python\\Python311\\site-packages\\sklearn\\linear_model\\_logistic.py:1264: FutureWarning: 'multi_class' was deprecated in version 1.5 and will be removed in 1.7. From then on, it will always use 'multinomial'. Leave it to its default value to avoid this warning.\n",
      "  warnings.warn(\n",
      "C:\\Users\\Administrator\\AppData\\Roaming\\Python\\Python311\\site-packages\\sklearn\\linear_model\\_sag.py:348: ConvergenceWarning: The max_iter was reached which means the coef_ did not converge\n",
      "  warnings.warn(\n",
      "C:\\Users\\Administrator\\AppData\\Roaming\\Python\\Python311\\site-packages\\sklearn\\utils\\_response.py:203: UserWarning: The number of unique classes is greater than 50% of the number of samples.\n",
      "  target_type = type_of_target(classes)\n",
      "C:\\Users\\Administrator\\AppData\\Roaming\\Python\\Python311\\site-packages\\sklearn\\linear_model\\_logistic.py:1264: FutureWarning: 'multi_class' was deprecated in version 1.5 and will be removed in 1.7. From then on, it will always use 'multinomial'. Leave it to its default value to avoid this warning.\n",
      "  warnings.warn(\n",
      "C:\\Users\\Administrator\\AppData\\Roaming\\Python\\Python311\\site-packages\\sklearn\\utils\\_response.py:203: UserWarning: The number of unique classes is greater than 50% of the number of samples.\n",
      "  target_type = type_of_target(classes)\n",
      "C:\\Users\\Administrator\\AppData\\Roaming\\Python\\Python311\\site-packages\\sklearn\\linear_model\\_logistic.py:1264: FutureWarning: 'multi_class' was deprecated in version 1.5 and will be removed in 1.7. From then on, it will always use 'multinomial'. Leave it to its default value to avoid this warning.\n",
      "  warnings.warn(\n"
     ]
    },
    {
     "name": "stdout",
     "output_type": "stream",
     "text": [
      "Best parameters found: {'C': 10.0, 'max_iter': 1000, 'multi_class': 'multinomial', 'solver': 'lbfgs'}\n"
     ]
    },
    {
     "name": "stderr",
     "output_type": "stream",
     "text": [
      "C:\\Users\\Administrator\\AppData\\Roaming\\Python\\Python311\\site-packages\\sklearn\\linear_model\\_logistic.py:1264: FutureWarning: 'multi_class' was deprecated in version 1.5 and will be removed in 1.7. From then on, it will always use 'multinomial'. Leave it to its default value to avoid this warning.\n",
      "  warnings.warn(\n"
     ]
    },
    {
     "name": "stdout",
     "output_type": "stream",
     "text": [
      "Tuned Logistic Regression\n",
      "Accuracy: 0.9987730061349693\n",
      "Precision: 0.9988505747126436\n",
      "Recall: 0.9987654320987654\n",
      "F1: 0.9987862738607525\n",
      "Loss: 0.014344575834673556\n"
     ]
    }
   ],
   "source": [
    "from sklearn.model_selection import GridSearchCV\n",
    "from sklearn.linear_model import LogisticRegression\n",
    "\n",
    "# Define parameter grid\n",
    "param_grid = {\n",
    "    'C': [0.01, 0.1, 1.0, 10.0],\n",
    "    'solver': ['lbfgs', 'saga'],\n",
    "    'multi_class': ['multinomial'],\n",
    "    'max_iter': [1000]\n",
    "}\n",
    "\n",
    "# Setup GridSearchCV\n",
    "grid_search = GridSearchCV(LogisticRegression(), param_grid, cv=3, scoring='accuracy', verbose=1)\n",
    "grid_search.fit(X_train, y_train)\n",
    "\n",
    "# Best parameters\n",
    "print(\"Best parameters found:\", grid_search.best_params_)\n",
    "\n",
    "# Retrain with best parameters\n",
    "best_log_reg = grid_search.best_estimator_\n",
    "best_log_reg.fit(X_train, y_train)\n",
    "\n",
    "# Evaluate\n",
    "y_pred_lr = best_log_reg.predict(X_test)\n",
    "y_proba_lr = best_log_reg.predict_proba(X_test)\n",
    "\n",
    "acc = accuracy_score(y_test, y_pred_lr)\n",
    "prec = precision_score(y_test, y_pred_lr, average='macro')\n",
    "rec = recall_score(y_test, y_pred_lr, average='macro')\n",
    "f1 = f1_score(y_test, y_pred_lr, average='macro')\n",
    "loss = log_loss(y_test, y_proba_lr)\n",
    "\n",
    "print(f\"Tuned Logistic Regression\\nAccuracy: {acc}\\nPrecision: {prec}\\nRecall: {rec}\\nF1: {f1}\\nLoss: {loss}\")"
   ]
  },
  {
   "cell_type": "markdown",
   "id": "a217b825",
   "metadata": {},
   "source": [
    "# Result Summary Table"
   ]
  },
  {
   "cell_type": "code",
   "execution_count": 8,
   "id": "1f9ea6f5",
   "metadata": {},
   "outputs": [
    {
     "name": "stdout",
     "output_type": "stream",
     "text": [
      "\u001b[1m26/26\u001b[0m \u001b[32m━━━━━━━━━━━━━━━━━━━━\u001b[0m\u001b[37m\u001b[0m \u001b[1m0s\u001b[0m 3ms/step \n"
     ]
    },
    {
     "name": "stderr",
     "output_type": "stream",
     "text": [
      "C:\\Users\\Administrator\\AppData\\Roaming\\Python\\Python311\\site-packages\\sklearn\\metrics\\_classification.py:1706: UndefinedMetricWarning: Precision is ill-defined and being set to 0.0 in labels with no predicted samples. Use `zero_division` parameter to control this behavior.\n",
      "  _warn_prf(average, modifier, f\"{metric.capitalize()} is\", result.shape[0])\n",
      "C:\\Users\\Administrator\\AppData\\Roaming\\Python\\Python311\\site-packages\\sklearn\\metrics\\_classification.py:1706: UndefinedMetricWarning: Precision is ill-defined and being set to 0.0 in labels with no predicted samples. Use `zero_division` parameter to control this behavior.\n",
      "  _warn_prf(average, modifier, f\"{metric.capitalize()} is\", result.shape[0])\n",
      "C:\\Users\\Administrator\\AppData\\Roaming\\Python\\Python311\\site-packages\\sklearn\\metrics\\_classification.py:1706: UndefinedMetricWarning: Precision is ill-defined and being set to 0.0 in labels with no predicted samples. Use `zero_division` parameter to control this behavior.\n",
      "  _warn_prf(average, modifier, f\"{metric.capitalize()} is\", result.shape[0])\n",
      "C:\\Users\\Administrator\\AppData\\Roaming\\Python\\Python311\\site-packages\\sklearn\\metrics\\_classification.py:1706: UndefinedMetricWarning: Precision is ill-defined and being set to 0.0 in labels with no predicted samples. Use `zero_division` parameter to control this behavior.\n",
      "  _warn_prf(average, modifier, f\"{metric.capitalize()} is\", result.shape[0])\n"
     ]
    },
    {
     "data": {
      "text/html": [
       "<div>\n",
       "<style scoped>\n",
       "    .dataframe tbody tr th:only-of-type {\n",
       "        vertical-align: middle;\n",
       "    }\n",
       "\n",
       "    .dataframe tbody tr th {\n",
       "        vertical-align: top;\n",
       "    }\n",
       "\n",
       "    .dataframe thead th {\n",
       "        text-align: right;\n",
       "    }\n",
       "</style>\n",
       "<table border=\"1\" class=\"dataframe\">\n",
       "  <thead>\n",
       "    <tr style=\"text-align: right;\">\n",
       "      <th></th>\n",
       "      <th>Instance</th>\n",
       "      <th>Optimizer</th>\n",
       "      <th>Epochs</th>\n",
       "      <th>EarlyStopping</th>\n",
       "      <th>Loss</th>\n",
       "      <th>Accuracy</th>\n",
       "      <th>Precision</th>\n",
       "      <th>Recall</th>\n",
       "      <th>F1-score</th>\n",
       "    </tr>\n",
       "  </thead>\n",
       "  <tbody>\n",
       "    <tr>\n",
       "      <th>0</th>\n",
       "      <td>instance_1</td>\n",
       "      <td>Adam</td>\n",
       "      <td>10</td>\n",
       "      <td>False</td>\n",
       "      <td>2.990607</td>\n",
       "      <td>0.078528</td>\n",
       "      <td>0.030991</td>\n",
       "      <td>0.079012</td>\n",
       "      <td>0.030285</td>\n",
       "    </tr>\n",
       "    <tr>\n",
       "      <th>1</th>\n",
       "      <td>instance_2</td>\n",
       "      <td>RMSprop</td>\n",
       "      <td>30</td>\n",
       "      <td>True</td>\n",
       "      <td>2.716355</td>\n",
       "      <td>0.193865</td>\n",
       "      <td>0.185908</td>\n",
       "      <td>0.192725</td>\n",
       "      <td>0.137108</td>\n",
       "    </tr>\n",
       "    <tr>\n",
       "      <th>2</th>\n",
       "      <td>instance_3</td>\n",
       "      <td>Adam</td>\n",
       "      <td>40</td>\n",
       "      <td>True</td>\n",
       "      <td>3.398325</td>\n",
       "      <td>0.033129</td>\n",
       "      <td>0.001197</td>\n",
       "      <td>0.033333</td>\n",
       "      <td>0.002311</td>\n",
       "    </tr>\n",
       "    <tr>\n",
       "      <th>3</th>\n",
       "      <td>instance_4</td>\n",
       "      <td>SGD</td>\n",
       "      <td>50</td>\n",
       "      <td>True</td>\n",
       "      <td>3.399580</td>\n",
       "      <td>0.036810</td>\n",
       "      <td>0.004076</td>\n",
       "      <td>0.037037</td>\n",
       "      <td>0.006139</td>\n",
       "    </tr>\n",
       "    <tr>\n",
       "      <th>4</th>\n",
       "      <td>LogisticRegression</td>\n",
       "      <td>N/A</td>\n",
       "      <td>N/A</td>\n",
       "      <td>False</td>\n",
       "      <td>0.014345</td>\n",
       "      <td>0.998773</td>\n",
       "      <td>0.998851</td>\n",
       "      <td>0.998765</td>\n",
       "      <td>0.998786</td>\n",
       "    </tr>\n",
       "    <tr>\n",
       "      <th>5</th>\n",
       "      <td>LogisticRegression_Tuned</td>\n",
       "      <td>N/A</td>\n",
       "      <td>N/A</td>\n",
       "      <td>False</td>\n",
       "      <td>0.014345</td>\n",
       "      <td>0.998773</td>\n",
       "      <td>0.998851</td>\n",
       "      <td>0.998765</td>\n",
       "      <td>0.998786</td>\n",
       "    </tr>\n",
       "  </tbody>\n",
       "</table>\n",
       "</div>"
      ],
      "text/plain": [
       "                   Instance Optimizer Epochs  EarlyStopping      Loss  \\\n",
       "0                instance_1      Adam     10          False  2.990607   \n",
       "1                instance_2   RMSprop     30           True  2.716355   \n",
       "2                instance_3      Adam     40           True  3.398325   \n",
       "3                instance_4       SGD     50           True  3.399580   \n",
       "4        LogisticRegression       N/A    N/A          False  0.014345   \n",
       "5  LogisticRegression_Tuned       N/A    N/A          False  0.014345   \n",
       "\n",
       "   Accuracy  Precision    Recall  F1-score  \n",
       "0  0.078528   0.030991  0.079012  0.030285  \n",
       "1  0.193865   0.185908  0.192725  0.137108  \n",
       "2  0.033129   0.001197  0.033333  0.002311  \n",
       "3  0.036810   0.004076  0.037037  0.006139  \n",
       "4  0.998773   0.998851  0.998765  0.998786  \n",
       "5  0.998773   0.998851  0.998765  0.998786  "
      ]
     },
     "execution_count": 8,
     "metadata": {},
     "output_type": "execute_result"
    }
   ],
   "source": [
    "results = [\n",
    "    [\"instance_1\", \"Adam\", 10, False, log_loss(y_test, model1.predict(X_test)), accuracy_score(y_test, y_pred_classes), precision_score(y_test, y_pred_classes, average='macro'), recall_score(y_test, y_pred_classes, average='macro'), f1_score(y_test, y_pred_classes, average='macro')],\n",
    "    [\"instance_2\", \"RMSprop\", 30, True, log_loss(y_test, y_pred2), accuracy_score(y_test, y_pred_classes2), precision_score(y_test, y_pred_classes2, average='macro'), recall_score(y_test, y_pred_classes2, average='macro'), f1_score(y_test, y_pred_classes2, average='macro')],\n",
    "    [\"instance_3\", \"Adam\", 40, True, log_loss(y_test, y_pred3), accuracy_score(y_test, y_pred_classes3), precision_score(y_test, y_pred_classes3, average='macro'), recall_score(y_test, y_pred_classes3, average='macro'), f1_score(y_test, y_pred_classes3, average='macro')],\n",
    "    [\"instance_4\", \"SGD\", 50, True, log_loss(y_test, y_pred4), accuracy_score(y_test, y_pred_classes4), precision_score(y_test, y_pred_classes4, average='macro'), recall_score(y_test, y_pred_classes4, average='macro'), f1_score(y_test, y_pred_classes4, average='macro')],\n",
    "    [\"LogisticRegression\", \"N/A\", \"N/A\", False, log_loss(y_test, y_proba_lr), accuracy_score(y_test, y_pred_lr), precision_score(y_test, y_pred_lr, average='macro'), recall_score(y_test, y_pred_lr, average='macro'), f1_score(y_test, y_pred_lr, average='macro')],\n",
    "    [\"LogisticRegression_Tuned\", \"N/A\", \"N/A\", False, loss, acc, prec, rec, f1]\n",
    "]\n",
    "\n",
    "results_df = pd.DataFrame(results, columns=[\"Instance\", \"Optimizer\", \"Epochs\", \"EarlyStopping\", \"Loss\", \"Accuracy\", \"Precision\", \"Recall\", \"F1-score\"])\n",
    "results_df.to_csv(\"training_results.csv\", index=False)\n",
    "results_df"
   ]
  }
 ],
 "metadata": {
  "kernelspec": {
   "display_name": "Python 3.11",
   "language": "python",
   "name": "python311"
  },
  "language_info": {
   "codemirror_mode": {
    "name": "ipython",
    "version": 3
   },
   "file_extension": ".py",
   "mimetype": "text/x-python",
   "name": "python",
   "nbconvert_exporter": "python",
   "pygments_lexer": "ipython3",
   "version": "3.11.9"
  }
 },
 "nbformat": 4,
 "nbformat_minor": 5
}
